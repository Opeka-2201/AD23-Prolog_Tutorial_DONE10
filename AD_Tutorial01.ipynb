{
  "cells": [
    {
      "attachments": {},
      "cell_type": "markdown",
      "metadata": {
        "id": "wZVxG34Gk2cz"
      },
      "source": [
        "# Prolog to Query Databases\n",
        "\n",
        "Prolog is a declarative programming language that is particularly useful for solving problems related to artificial intelligence and natural language processing. Prolog stands for \"Programming in Logic,\" which indicates that Prolog programs are based on logical rules rather than procedural rules. This makes Prolog particularly well-suited to problems that involve searching through large amounts of data or reasoning about complex systems.\n"
      ]
    },
    {
      "attachments": {},
      "cell_type": "markdown",
      "metadata": {},
      "source": [
        "\n",
        "## Features of Prolog\n",
        "\n",
        "Prolog is a unique programming language that offers several features that set it apart from other languages:\n",
        "\n",
        "- **Declarative syntax**: Prolog programs are written using declarative syntax, which means that the program describes the problem to be solved rather than providing a step-by-step procedure for solving it.\n",
        "- **Logical programming**: Prolog is based on logical programming, which means that programs are based on a set of logical rules that describe the problem domain.\n",
        "- **Backtracking**: Prolog uses a backtracking search algorithm to find solutions to problems. This allows the programmer to explore multiple possible solutions to a problem.\n",
        "- **Built-in support for data types**: Prolog includes built-in support for several data types, including numbers, strings, and lists.\n",
        "- **Inference engine**: Prolog includes an inference engine that can be used to reason about logical statements and make deductions based on them.\n"
      ]
    },
    {
      "attachments": {},
      "cell_type": "markdown",
      "metadata": {},
      "source": [
        "\n",
        "## Benefits and drawbacks of Prolog\n",
        "\n",
        "Prolog has several benefits and drawbacks that are important to consider when choosing a database technology. \n",
        "\n",
        "#### Some of the benefits of Prolog include:\n",
        "\n",
        "- ****Easy to learn****: Prolog has a simple and easy-to-understand syntax, which makes it easy for programmers to learn.\n",
        "- ****Efficient search****: Prolog's backtracking search algorithm is particularly efficient for exploring multiple solutions in a database.\n",
        "- ****Natural language processing****: Prolog is particularly well-suited for problems related to natural language processing, as its logical rules can be used to reason about language structures.\n",
        "\n",
        "#### Some of the drawbacks of Prolog include:\n",
        "\n",
        "- **Limited scalability**: Prolog is not well-suited for very large databases, as its search algorithm can become slow and inefficient.\n",
        "- **Steep learning curve**: Although Prolog's syntax is simple, its logical programming paradigm can be difficult for some programmers to understand.\n",
        "- **Limited industry support**: Prolog is not widely used in industry, so finding support and resources can be challenging.\n"
      ]
    },
    {
      "cell_type": "markdown",
      "metadata": {},
      "source": [
        "\n",
        "## Real world applications of Prolog \n",
        "\n",
        "Prolog has been used in several real-world applications, including:\n",
        "\n",
        "- **Expert systems**: Prolog's ability to reason about logical statements has made it a popular choice for developing expert systems that can provide advice and recommendations based on input data.\n",
        "- **Natural language processing**: Prolog has been used to develop several natural language processing systems, including chatbots and question-answering systems.\n",
        "- **Healthcare**: Prolog has been used in several healthcare applications, including diagnosing diseases and creating treatment plans based on patient data.\n"
      ]
    },
    {
      "attachments": {},
      "cell_type": "markdown",
      "metadata": {},
      "source": [
        "# Tutorial\n",
        "This tutorial will be a good foundation on how to use Prolog if you're a beginner on the subject and if you're already familiar with Prolog, you can use it to have a little reminder on the basics."
      ]
    },
    {
      "attachments": {},
      "cell_type": "markdown",
      "metadata": {
        "id": "LvqfcUS-s0ZC"
      },
      "source": [
        "## SWI-Prolog\n",
        "\n",
        "First, let's make sure that you have [SWI-Prolog](https://www.swi-prolog.org) installed on your machine by running the following commands. This will download the SWI-Prolog, which is a free and portable Prolog environment that is easy to use and compliant with textbooks, using the PPA (Ubuntu Personnal Package Archive). "
      ]
    },
    {
      "cell_type": "markdown",
      "metadata": {},
      "source": [
        "    apt-get install software-properties-common\n",
        "    apt-add-repository ppa:swi-prolog/stable\n",
        "    apt-get update\n",
        "    apt-get install swi-prolog"
      ]
    },
    {
      "attachments": {},
      "cell_type": "markdown",
      "metadata": {},
      "source": [
        "If you're a Mac user, you can install SWI-Prolog using [Homebrew](https://brew.sh/) by running the following command (be sure you have Homebrew installed on your machine), if not you can install it by running this simple command : \n",
        "\n",
        "    /bin/bash -c \"$(curl -fsSL https://raw.githubusercontent.com/Homebrew/install/HEAD/install.sh)\""
      ]
    },
    {
      "attachments": {},
      "cell_type": "markdown",
      "metadata": {},
      "source": [
        "The simply run the next command to install SWI-Prolog :\n",
        "\n",
        "    /bin/bash brew install swi-prolog"
      ]
    },
    {
      "attachments": {},
      "cell_type": "markdown",
      "metadata": {},
      "source": [
        "If you're not a Ubuntu nor Mac user, we strongly advise you to use the following Notebook in [Google Colab](https://colab.research.google.com) as the build of SWI-Prolog on Windows is not as easy as on Linux or Mac.\n",
        "\n",
        "![](https://www.swi-prolog.org/icons/swipl.png)"
      ]
    },
    {
      "attachments": {},
      "cell_type": "markdown",
      "metadata": {},
      "source": [
        "## Library\n",
        "\n",
        "In this tutorial, we'll use a package to allow us to query databases in Python by using the `SWI-Prolog` environment. This package is named `PySWIP` and can be installed with the following command (building from the Github repository as the package available on [PyPI](https://pypi.org/project/pyswip/) is not up to date and creates errors).\n",
        "\n",
        "    pip install git+https://github.com/yuce/pyswip@master#egg=pyswip\n",
        "\n",
        "Let's now jump into what's important, the code !"
      ]
    },
    {
      "attachments": {},
      "cell_type": "markdown",
      "metadata": {
        "id": "FNtOjMjtwgEF"
      },
      "source": [
        "## Prolog in PySWIP"
      ]
    },
    {
      "cell_type": "markdown",
      "metadata": {
        "id": "14QfCbJjoAoz"
      },
      "source": [
        "With the `PySWIP` package installed, we can create a `Prolog` object that will allow us to query with Prolog and use the `assertz()` function to create facts about the instances in our database. "
      ]
    },
    {
      "cell_type": "code",
      "execution_count": null,
      "metadata": {
        "id": "wsZh5sSWoYWv"
      },
      "outputs": [],
      "source": [
        "from pyswip import *\n",
        "\n",
        "prolog = Prolog()\n",
        "\n",
        "prolog.assertz(\"father(john, jim)\")\n",
        "prolog.assertz(\"mother(jane, jim)\")\n",
        "\n",
        "prolog.assertz(\"father(john, jenny)\")\n",
        "prolog.assertz(\"mother(jane, jenny)\")\n",
        "\n",
        "prolog.assertz(\"father(john, jack)\")\n",
        "prolog.assertz(\"father(mary, jack)\")\n",
        "\n",
        "prolog.assertz(\"father(rob, andrew)\")\n",
        "prolog.assertz(\"mother(mary, andrew)\")\n",
        "\n",
        "prolog.assertz(\"father(bob, billy)\")\n",
        "prolog.assertz(\"mother(sue, billy)\")"
      ]
    },
    {
      "attachments": {},
      "cell_type": "markdown",
      "metadata": {
        "id": "oAxRG7tkmBYo"
      },
      "source": [
        "# Prolog basics\n",
        "\n",
        "In Prolog, everything is based on facts and rules. Facts are specified in the format as seen in the cell above and represent informations known about our dataset. We can deduce new relations between instances using the rules (by doing queries).\n",
        "\n",
        "A query is represented by a fact followed by the parameters between parantheses followed by `:-` the part of the query where the rule is formulated.\n",
        "\n",
        "- `,` represents the logical AND operator\n",
        "\n",
        "- Writing two defintions for the same fact will be interpreted as a logical OR operator\n",
        "\n",
        "- `.` delimits the end of a query\n",
        "\n",
        "- `\\+` represents the logical NOT operator\n",
        "\n",
        "- `[{}]` represents True\n",
        "\n",
        "- `[]` represents False\n",
        "\n",
        "\n",
        "Simples queries over the facts will simply return True or False, but we can go further by doing variable queries.\n",
        "\n",
        "When using pyswip we can use the `query()` method to query the database and get the results. The results are returned as a list of dictionaries, where each dictionary represents a result and the keys are the variables used in the query. But we still need to explicitly use the `list()` function to get the results."
      ]
    },
    {
      "cell_type": "markdown",
      "metadata": {
        "id": "pGvTn9K1Z30o"
      },
      "source": [
        "We can create a small function that can simply check if a query returns True or False and can start checking some facts about the relations we've just created :"
      ]
    },
    {
      "cell_type": "code",
      "execution_count": null,
      "metadata": {
        "colab": {
          "base_uri": "https://localhost:8080/"
        },
        "id": "NPWTqWZTaKJW",
        "outputId": "e0eaa7a7-bd0b-4a09-b2cc-4495bece7f66"
      },
      "outputs": [],
      "source": [
        "# How to do a simple query\n",
        "\n",
        "def check_query(query):\n",
        "    query = list(query)\n",
        "    return len(query) != 0\n",
        "\n",
        "print(check_query(prolog.query(\"father(john, jim)\")))\n",
        "print(check_query(prolog.query(\"mother(sue, jim)\")))"
      ]
    },
    {
      "cell_type": "code",
      "execution_count": null,
      "metadata": {
        "colab": {
          "base_uri": "https://localhost:8080/"
        },
        "id": "Gg_h3l7ZRHza",
        "outputId": "e015a2ef-c4c5-449c-956c-d82cf126d1bf"
      },
      "outputs": [],
      "source": [
        "# How to do a variable query\n",
        "\n",
        "def print_query(query, field):\n",
        "    query = list(query)\n",
        "    for result in query:\n",
        "        print(result[field])\n",
        "\n",
        "jims_father = prolog.query(\"father(X, jim)\")\n",
        "\n",
        "print(\"Jim's father :\")\n",
        "print_query(jims_father, 'X')"
      ]
    },
    {
      "cell_type": "code",
      "execution_count": null,
      "metadata": {
        "id": "RiIDYDqsitnx"
      },
      "outputs": [],
      "source": [
        "rule_parent1 = \"parent(X, Y) :- father(X, Y)\"\n",
        "rule_parent2 = \"parent(X, Y) :- mother(X, Y)\"\n",
        "\n",
        "prolog.assertz(rule_parent1)\n",
        "prolog.assertz(rule_parent2)"
      ]
    },
    {
      "cell_type": "markdown",
      "metadata": {
        "id": "A2V9ZY_5NlR5"
      },
      "source": [
        "We can now create our own rule to query this small database to look for siblings :"
      ]
    },
    {
      "cell_type": "code",
      "execution_count": null,
      "metadata": {
        "colab": {
          "base_uri": "https://localhost:8080/"
        },
        "id": "ngen6Utd8a83",
        "outputId": "68e643d0-7bd5-44f5-8ca4-23fe0a353d1b"
      },
      "outputs": [],
      "source": [
        "# Rule :\n",
        "rule_sibling = \"sibling(X, Y) :- father(F, X), father(F, Y), mother(M, X), mother(M, Y), X \\= Y\"\n",
        "\n",
        "# Assert the rule\n",
        "prolog.assertz(rule_sibling)\n",
        "\n",
        "# Check the rule\n",
        "jims_siblings = prolog.query(\"sibling(X, jim)\")\n",
        "\n",
        "print(\"Jim's siblings :\")\n",
        "print_query(jims_siblings, 'X')"
      ]
    },
    {
      "cell_type": "markdown",
      "metadata": {
        "id": "LJvcnhi1XBV9"
      },
      "source": [
        "Can you now come up with a rule to check for stepsiblings ?"
      ]
    },
    {
      "cell_type": "code",
      "execution_count": null,
      "metadata": {
        "colab": {
          "base_uri": "https://localhost:8080/"
        },
        "id": "ivHs4bDoXHNJ",
        "outputId": "5621b7a3-9047-4439-8bfd-164504bfe8f8"
      },
      "outputs": [],
      "source": [
        "# Rules :\n",
        "rule_step_sibling = \"step_sibling(X, Y) :- parent(P, X), parent(P, Y), parent(Q, X), parent(R, Y), P \\= Q, P \\= R, Q \\= R\"\n",
        "\n",
        "# Assertion\n",
        "prolog.assertz(rule_step_sibling)\n",
        "\n",
        "# Check the rules\n",
        "jacks_step_siblings = prolog.query(\"step_sibling(X, jack)\")\n",
        "print(\"Jack's step siblings :\")\n",
        "print_query(jacks_step_siblings, 'X')"
      ]
    },
    {
      "attachments": {},
      "cell_type": "markdown",
      "metadata": {},
      "source": [
        "# Cut\n",
        "\n",
        "The cut operator `!` is used to stop the search for a solution when a solution is found. It is used to avoid backtracking and to improve the efficiency of the search. It is used in the following way :\n",
        "\n",
        "    query :- condition1, !, condition2.\n",
        "\n",
        "This will only succeed if `condition1` is true and `condition2` is true. If `condition1` is true and `condition2` is false, the query will fail. If `condition1` is false, the query will fail.\n",
        "\n",
        "This is a simple example :"
      ]
    },
    {
      "cell_type": "code",
      "execution_count": null,
      "metadata": {},
      "outputs": [],
      "source": [
        "cut_prolog = Prolog()\n",
        "cut_prolog.assertz(\"p(a)\")\n",
        "cut_prolog.assertz(\"p(b)\")\n",
        "cut_prolog.assertz(\"p(c)\")\n",
        " \n",
        "print_query(cut_prolog.query(\"p(X)\"), 'X')"
      ]
    },
    {
      "attachments": {},
      "cell_type": "markdown",
      "metadata": {},
      "source": [
        "In the following code, we can see the query will stop immediatly when it finds a cut operator and will not backtrack to find other solutions."
      ]
    },
    {
      "cell_type": "code",
      "execution_count": null,
      "metadata": {},
      "outputs": [],
      "source": [
        "cut_prolog.assertz(\"p1(a)\")\n",
        "cut_prolog.assertz(\"p1(b):-!\")\n",
        "cut_prolog.assertz(\"p1(c)\")\n",
        " \n",
        "print_query(cut_prolog.query(\"p1(X)\"), 'X')"
      ]
    },
    {
      "attachments": {},
      "cell_type": "markdown",
      "metadata": {},
      "source": [
        "The following code is a logic extension of what we just see"
      ]
    },
    {
      "cell_type": "code",
      "execution_count": null,
      "metadata": {},
      "outputs": [],
      "source": [
        "list(cut_prolog.query( \"p1(X),p1(Y)\"))"
      ]
    },
    {
      "attachments": {},
      "cell_type": "markdown",
      "metadata": {},
      "source": [
        "Just bellow, the query is a bit more complex.\n",
        "If we reuse the expression bellow: \n",
        "\n",
        "    query :- condition1, !, condition2.\n",
        "\n",
        "Here the fist condition is a conditionnal operator but with the cut operator in `p(b))` we can see that the query will stop immediatly when it finds a cut operator and immediatly return the result wich also a conditionnal operator and has only 2 answers because of the cut operator in the declaration of `p(b)`."
      ]
    },
    {
      "cell_type": "code",
      "execution_count": null,
      "metadata": {},
      "outputs": [],
      "source": [
        "list(cut_prolog.query( \"p1(X),!,p1(Y)\"))"
      ]
    },
    {
      "attachments": {},
      "cell_type": "markdown",
      "metadata": {},
      "source": [
        "Let see a more usefull example :"
      ]
    },
    {
      "cell_type": "code",
      "execution_count": null,
      "metadata": {},
      "outputs": [],
      "source": [
        "sign = Prolog()\n",
        "sign.assertz(\"sign(X, positive):- X > 0\")\n",
        "sign.assertz(\"sign(X, negative):- X < 0\")\n",
        "sign.assertz(\"sign(X, zero):- X == 0\")\n",
        "\n",
        "print_query(sign.query(\"sign(1, X)\"), 'X')\n",
        "print_query(sign.query(\"sign(-1, X)\"), 'X')"
      ]
    },
    {
      "attachments": {},
      "cell_type": "markdown",
      "metadata": {},
      "source": [
        "In this example, prolog will test all the 3 conditions and will return all the possible solutions. But we know that there is only one solution, so we can use the cut operator to stop the search for a solution when a solution is found and improve the efficiency of the search."
      ]
    },
    {
      "cell_type": "code",
      "execution_count": null,
      "metadata": {},
      "outputs": [],
      "source": [
        "sign.assertz(\"sign1(X, positive):- X > 0, !\")\n",
        "sign.assertz(\"sign1(X, negative):- X < 0, !\")\n",
        "sign.assertz(\"sign1(X, zero):- X == 0\")\n",
        "\n",
        "print_query(sign.query(\"sign1(1, X)\"), 'X')\n",
        "print_query(sign.query(\"sign1(-1, X)\"), 'X')"
      ]
    },
    {
      "attachments": {},
      "cell_type": "markdown",
      "metadata": {},
      "source": [
        "Now, let's have a little exercise to test your knowledge on the cut operator. Modify the following code to improve its efficiency."
      ]
    },
    {
      "cell_type": "code",
      "execution_count": null,
      "metadata": {},
      "outputs": [],
      "source": [
        "#Add 2 cut operators to make this automatic comment on a student's grade more efficient\n",
        "\n",
        "note = Prolog()\n",
        "note.assertz(\"note(X, Failed) :- X < 10\")\n",
        "note.assertz(\"note(X, Sufficient) :- X =< 10\")\n",
        "note.assertz(\"note(X, Great) :- X > 10\")\n"
      ]
    },
    {
      "attachments": {},
      "cell_type": "markdown",
      "metadata": {},
      "source": [
        "The code above as the same effect but stop the search for a solution when a solution is found. This is what we call a **green cut** because the answer is the same as the query without cut operator."
      ]
    },
    {
      "attachments": {},
      "cell_type": "markdown",
      "metadata": {},
      "source": [
        "## Negation as Failure\n",
        "\n",
        "Negation as failure (NAF) is a technique that allows us to query the database for a fact that is not present in the database. This is done by using the `\\+` operator. We can illustrate this by searching for unique children in our database :"
      ]
    },
    {
      "cell_type": "code",
      "execution_count": null,
      "metadata": {},
      "outputs": [],
      "source": [
        "# Rules :\n",
        "rule_unique_child = \"unique_child(X) :- \\+ sibling(X, _), \\+ step_sibling(X, _)\"\n",
        "\n",
        "# Assertion\n",
        "prolog.assertz(rule_unique_child)\n",
        "\n",
        "juliette_unique_child = prolog.query(\"unique_child(juliette)\")\n",
        "check_query(juliette_unique_child)"
      ]
    },
    {
      "attachments": {},
      "cell_type": "markdown",
      "metadata": {},
      "source": [
        "This operator can be defined using the cut operator as seen before and a new keyword `fail` that will always fail the query.\n",
        "The implementation of a `neg` operator wich is the same as `\\+` operator is as follows :\n",
        "\n",
        "    neg(Goal) :- Goal, !, fail.\n",
        "    neg(_) :- true."
      ]
    },
    {
      "attachments": {},
      "cell_type": "markdown",
      "metadata": {},
      "source": [
        "This operator is a bit confusing because it will not tell us that a fact is False but will tell us that a fact is not present in the database. This is what we call the closed world assumption."
      ]
    },
    {
      "attachments": {},
      "cell_type": "markdown",
      "metadata": {},
      "source": [
        "Now, a little exercise to test your knowledge on the negation as failure operator. In the following code, there is a list of students and a list a graduated students. Modify the code to get the list of students that are not graduated."
      ]
    },
    {
      "cell_type": "code",
      "execution_count": null,
      "metadata": {},
      "outputs": [],
      "source": [
        "students = Prolog()\n",
        "students.assertz(\"student(s123456)\")\n",
        "students.assertz(\"student(s123457)\")\n",
        "students.assertz(\"student(s123458)\")\n",
        "students.assertz(\"student(s123459)\")\n",
        "students.assertz(\"student(s123460)\")\n",
        "\n",
        "students.assertz(\"grade(s123456)\")\n",
        "students.assertz(\"grade(s123457)\")\n"
      ]
    },
    {
      "attachments": {},
      "cell_type": "markdown",
      "metadata": {},
      "source": [
        "## Functors\n",
        "\n",
        "In Prolog, functors represent the name-arity pair that is used to differentiate between different predicates.\n",
        "\n",
        "It is essentially a compound term that consists of a name and an arity, separated by a forward slash (\"/\"). The name represents the functor's identifier, while the arity specifies the number of arguments the functor takes. So in the previous examples, the functors are `father/2`, `mother/2`, `parent/2` and `sibling/2`.\n",
        "\n",
        "Functors can be used to create new predicates and evaluates expression directly at runtime which is useful for many tasks such as constraint solving, data manipulation, symbolic computation, and more.\n",
        "\n",
        "In summary, functors are an important concept in Prolog that allows programmers to create and manipulate compound terms and predicates in a flexible and dynamic way.\n",
        "\n",
        "Let us for example define a functor `book/4` to represent a book with it's title, author, genre and year of publication. We can declare some books and more complex queries."
      ]
    },
    {
      "cell_type": "code",
      "execution_count": null,
      "metadata": {},
      "outputs": [],
      "source": [
        "books = Prolog()\n",
        "\n",
        "books.assertz(\"book('The Lord of the Rings', tolkien, fantasy, 1954)\")\n",
        "books.assertz(\"book('The Hobbit', tolkien, fantasy, 1937)\")\n",
        "books.assertz(\"book('To Kill a Mockingbird', lee, fiction, 1960)\")\n",
        "books.assertz(\"book('The Great Gatsby', fitzgerald, fiction, 1925)\")\n",
        "books.assertz(\"book('Les Miserables', hugo, fiction, 1862)\")\n",
        "books.assertz(\"book('Orient Express', christie, mystery, 1934)\")\n",
        "books.assertz(\"book('The Da Vinci Code', brown, mystery, 2003)\")\n",
        "\n",
        "# Let's now do some queries on the books :\n",
        "\n",
        "# Query 1 : Find all the books written by Tolkien\n",
        "books_tolkien = books.query(\"book(X, tolkien, Y, Z)\")\n",
        "print(\"\\nBooks written by Tolkien :\")\n",
        "print_query(books_tolkien, 'X')\n",
        "\n",
        "# We can also use the following syntax :\n",
        "# Query 2 : Find all authors who wrote a fiction book\n",
        "authors_fiction = books.query(\"book(W, X, Y, Z), Y = 'fiction'\")\n",
        "print(\"\\nAuthors who wrote a fiction book :\")\n",
        "print_query(authors_fiction, 'X')\n",
        "\n",
        "# Your turn Query 3 : Find all books written before 1950\n",
        "books_before_1950 = books.query(\"\")\n",
        "print(\"\\nBooks written before 1950 :\")\n",
        "print_query(books_before_1950, 'X')"
      ]
    },
    {
      "attachments": {},
      "cell_type": "markdown",
      "metadata": {},
      "source": [
        "## Consult\n",
        "\n",
        "To avoid using the `assertz()` function to create facts, we can use the `consult()` function to load a file containing the facts. This file must be a `.pl` file :"
      ]
    },
    {
      "cell_type": "code",
      "execution_count": null,
      "metadata": {},
      "outputs": [],
      "source": [
        "family = Prolog()\n",
        "family.consult(\"family.pl\")\n",
        "\n",
        "result = family.query(\"grandparent(X, Y)\")\n",
        "print(list(result))"
      ]
    },
    {
      "attachments": {},
      "cell_type": "markdown",
      "metadata": {},
      "source": [
        "## Lists in Prolog\n",
        "\n",
        "Prolog as a built-in list structure which ressembles the formalism of languages such as Scheme or Lisp. The list is built upon two main blocks, the `Head` and the `Tail`, this allows us to do recursion in the list :"
      ]
    },
    {
      "cell_type": "code",
      "execution_count": null,
      "metadata": {},
      "outputs": [],
      "source": [
        "sum = Prolog()\n",
        "sum.consult(\"sum.pl\")\n",
        "\n",
        "result = sum.query(\"sum_list([1, 2, 3, 4, 5], Sum)\")\n",
        "\n",
        "print_query(result, 'Sum')"
      ]
    },
    {
      "attachments": {},
      "cell_type": "markdown",
      "metadata": {},
      "source": [
        "This code is defining a predicate `sum_list` in Prolog, which calculates the sum of a list of numbers.\n",
        "\n",
        "The predicate takes two arguments: \n",
        " - the first argument is the list of numbers\n",
        " - the second argument is the sum of those numbers.\n",
        "\n",
        "The first line of the code `sum_list([], 0)` is a base case that defines the sum of an empty list as 0.\n",
        "\n",
        "The second line of the code `sum_list([Head|Tail], Sum)` defines the recursive case, where `Head` is the first element of the list and `Tail` is the rest of the list.\n",
        "\n",
        "The recursive case then calls the `sum_list` predicate again with the Tail argument to calculate the sum of the remaining elements of the list, and stores that sum in the `TailSum` variable.\n",
        "\n",
        "Finally, the sum of Head and TailSum is computed using the `is` operator, and the result is stored in the `Sum` variable. This Sum value is returned as the final answer of the `sum_list` predicate.\n",
        "\n",
        "Overall, the `sum_list` predicate recursively computes the sum of a list of numbers by breaking it down into smaller subproblems (i.e., the sum of the tail of the list), and then combining the results to get the final answer."
      ]
    },
    {
      "attachments": {},
      "cell_type": "markdown",
      "metadata": {},
      "source": [
        "## Meta Programming"
      ]
    },
    {
      "cell_type": "code",
      "execution_count": null,
      "metadata": {},
      "outputs": [],
      "source": [
        "meta = Prolog()\n",
        "meta.consult(\"meta.pl\")\n",
        "\n",
        "\n",
        "result = meta.query(\"atoms_to_preds([foo, bar, baz], Preds).\")\n",
        "print(list(result))"
      ]
    },
    {
      "attachments": {},
      "cell_type": "markdown",
      "metadata": {},
      "source": [
        "This code defines a predicate `atoms_to_preds` that takes a list of atoms and returns a list of two-argument predicates with those names. Each predicate takes two arguments of any type and simply returns those arguments as a tuple.\n",
        "\n",
        "To accomplish this, `atoms_to_preds` uses several meta-predicates. First, it constructs the names of the predicates using atom_concat and then converts those names to actual predicate terms using `atom_to_term`. It then combines these predicates into two-argument tuples using the Prolog tuple syntax.\n",
        "\n",
        "Finally, the code uses the Prolog query system to demonstrate how atoms_to_preds can be used to create a list of predicates from a list of atoms. The query `atoms_to_preds([foo, bar, baz], Preds)` returns the list `[(foo_1, foo_2), (bar_1, bar_2), (baz_1, baz_2)]`, which demonstrates how meta-programming can be used to dynamically generate code."
      ]
    },
    {
      "attachments": {},
      "cell_type": "markdown",
      "metadata": {},
      "source": [
        "## Real Database Example\n",
        "\n",
        "Now that we have looked at the basics from Prolog, we can do some exercises on a real database. We will use the [student-loan](https://archive.ics.uci.edu/ml/datasets/Student+Loan+Relational) database from the UCI Machine Learning Repository. It is a practical database as facts are already stored in the `.pl` files we can use with Prolog.\n",
        "\n",
        "This database contains informations about 1000 students, their loan payement status, employement status, and other facts. The document of the data is available in the `db/student-loan.names` file."
      ]
    },
    {
      "cell_type": "code",
      "execution_count": null,
      "metadata": {},
      "outputs": [],
      "source": [
        "#Load all the database files\n",
        "import os\n",
        "\n",
        "files = os.listdir(\"db/\")\n",
        "\n",
        "students_UCI = Prolog()\n",
        "\n",
        "for file in files:\n",
        "    if file.endswith(\".pl\"):\n",
        "        # Uncomment the right line below to load the database\n",
        "        \n",
        "        #students_UCI.consult(\"db/\" + file)\n",
        "        #students_UCI.assertz(\"db/\" + file)\n",
        "        #students_UCI.query(\"db/\" + file)"
      ]
    },
    {
      "cell_type": "code",
      "execution_count": null,
      "metadata": {},
      "outputs": [],
      "source": [
        "# Let's find all the students who are enrolled in some institution\n",
        "result = students_UCI.query(\"enrolled(X, _, _)\")\n",
        "\n",
        "print(\"All students who are enrolled :\")\n",
        "print_query(result, 'X')"
      ]
    },
    {
      "cell_type": "code",
      "execution_count": null,
      "metadata": {},
      "outputs": [],
      "source": [
        "# Let's now find all the students who have filed for bankrupcy\n",
        "result = students_UCI.query(\"filed_for_bankrupcy(X)\")\n",
        "print(\"All students who have filed for bankrupcy :\")\n",
        "print_query(result, 'X')"
      ]
    },
    {
      "cell_type": "code",
      "execution_count": null,
      "metadata": {},
      "outputs": [],
      "source": [
        "# We can also combine queries in Prolog by using the comma operator as a logical AND\n",
        "result = students_UCI.query(\"enrolled(X, _, _), filed_for_bankrupcy(X)\")\n",
        "print(\"All students who are enrolled and have filed for bankrupcy :\")\n",
        "print_query(result, 'X')"
      ]
    },
    {
      "attachments": {},
      "cell_type": "markdown",
      "metadata": {},
      "source": [
        "Now, you turn to play with the database and try to find all the students who are enlist in the `fire_department`, filed for bankrupcy AND who are at the `ucb` university."
      ]
    },
    {
      "cell_type": "code",
      "execution_count": null,
      "metadata": {},
      "outputs": [],
      "source": [
        "results = students_UCI.query(\"\")\n",
        "print(\"All students who are enrolled at UCB and are enlisted in the fire department :\")\n",
        "print_query(results, 'X')"
      ]
    },
    {
      "cell_type": "markdown",
      "metadata": {},
      "source": [
        "\n",
        "## Conclusion\n",
        "Prolog is a powerful and unique programming language that is particularly well-suited for problems related to artificial intelligence and natural language processing. Its declarative syntax and logical programming paradigm make it easy to learn and use, while its efficient backtracking search algorithm and built-in support for data types make it a powerful tool for searching through large databases and exploring multiple solutions. Although it has some limitations, Prolog has been successfully used in several real-world applications and is a valuable tool for any programmer interested in solving complex problems."
      ]
    },
    {
      "attachments": {},
      "cell_type": "markdown",
      "metadata": {},
      "source": [
        "## References :\n",
        "\n",
        "- [PyPi Documentation](https://pypi.org/project/pyswip/)\n",
        "- [SWI-Prolog Documentation](https://www.swi-prolog.org/pldoc/doc_for?object=manual)\n",
        "- [Cut & Negation Tutorial](https://www.cs.uleth.ca/~gaur/post/prolog-cut-negation/)\n",
        "- [UCI Machine Learning Repository - Student Loan Dataset](https://archive.ics.uci.edu/ml/machine-learning-databases/student-loan/)"
      ]
    }
  ],
  "metadata": {
    "colab": {
      "provenance": []
    },
    "kernelspec": {
      "display_name": "base",
      "language": "python",
      "name": "python3"
    },
    "language_info": {
      "codemirror_mode": {
        "name": "ipython",
        "version": 3
      },
      "file_extension": ".py",
      "mimetype": "text/x-python",
      "name": "python",
      "nbconvert_exporter": "python",
      "pygments_lexer": "ipython3",
      "version": "3.10.9"
    },
    "vscode": {
      "interpreter": {
        "hash": "638e2af81b26a65dfcefa1be0996687eb3f1c97506d8627a1908e80eb506969c"
      }
    }
  },
  "nbformat": 4,
  "nbformat_minor": 0
}
