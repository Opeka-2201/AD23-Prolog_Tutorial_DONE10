{
  "cells": [
    {
      "cell_type": "markdown",
      "metadata": {
        "id": "wZVxG34Gk2cz"
      },
      "source": [
        "# Prolog to Query Databases\n",
        "\n",
        "Prolog is a programming language that relies on relations. It is used to derive facts and rules based on those relations. Widely used in different fields, such as Artificial Intelligence and Computational Linguistics, and is based upon first-order and formal logic. In this tutorial we'll first explore the basic aspcects of Prolog, such as linking a database and simple queries, and then move on to more complicated subjects, such as joining tables, filtering, updating, ...\n",
        "\n",
        "This tutorial will be a good foundation on how to use Prolog if you're a beginner on the subject and if you're already familiar with Prolog, you can use it to have a little reminder on the basics."
      ]
    },
    {
      "cell_type": "markdown",
      "metadata": {
        "id": "LvqfcUS-s0ZC"
      },
      "source": [
        "### SWI-Prolog\n",
        "\n",
        "First, let's make sure that you have [SWI-Prolog](https://www.swi-prolog.org) installed on your machine by running the following commands. This will download the SWI-Prolog, which is a free and portable Prolog environment that is easy to use and compliant with textbooks, using the PPA (Ubunut Personnal Package Archive). \n",
        "\n",
        "If you're not a Ubuntu user, we strongly advise you to use the following Notebook in [Google Colab](https://colab.research.google.com).\n",
        "\n",
        "![](https://www.swi-prolog.org/icons/swipl.png)"
      ]
    },
    {
      "cell_type": "code",
      "execution_count": 1,
      "metadata": {},
      "outputs": [],
      "source": [
        "# !apt-get install software-properties-common\n",
        "# !apt-add-repository ppa:swi-prolog/stable\n",
        "# !apt-get update\n",
        "# !apt-get install swi-prolog"
      ]
    },
    {
      "cell_type": "markdown",
      "metadata": {},
      "source": [
        "### Library\n",
        "\n",
        "In this tutorial, we'll use a package to allow us to query databases in Python by using the `SWI-Prolog` environment. This package is named `PySWIP` and can be installed with the following command :"
      ]
    },
    {
      "cell_type": "code",
      "execution_count": 2,
      "metadata": {
        "colab": {
          "base_uri": "https://localhost:8080/"
        },
        "id": "KH9KaRdZnv5f",
        "outputId": "631ad883-2059-44cc-adf9-c353ea0a5538"
      },
      "outputs": [
        {
          "name": "stdout",
          "output_type": "stream",
          "text": [
            "Collecting pyswip\n",
            "  Cloning https://github.com/yuce/pyswip (to revision master) to /private/var/folders/d5/xjnfc_z96714df80fs1j8sg80000gn/T/pip-install-jqu0msv0/pyswip_7b44d5e25d534b6a9bac59a800d2b58d\n",
            "  Running command git clone --filter=blob:none --quiet https://github.com/yuce/pyswip /private/var/folders/d5/xjnfc_z96714df80fs1j8sg80000gn/T/pip-install-jqu0msv0/pyswip_7b44d5e25d534b6a9bac59a800d2b58d\n",
            "  Resolved https://github.com/yuce/pyswip to commit 59016e0841f56177d1b18ec08fd9b67792bd0a97\n",
            "  Preparing metadata (setup.py) ... \u001b[?25ldone\n",
            "\u001b[?25hBuilding wheels for collected packages: pyswip\n",
            "  Building wheel for pyswip (setup.py) ... \u001b[?25ldone\n",
            "\u001b[?25h  Created wheel for pyswip: filename=pyswip-0.2.11-py3-none-any.whl size=28436 sha256=55c9c3013d796ebd77fe1683d473eca8b2af50c19708f7229f28545646e46694\n",
            "  Stored in directory: /private/var/folders/d5/xjnfc_z96714df80fs1j8sg80000gn/T/pip-ephem-wheel-cache-9ajz90af/wheels/cc/f6/91/c3240f7b687960b33b5b5e93fadc20c8391d71d0126b0336e2\n",
            "Successfully built pyswip\n",
            "Installing collected packages: pyswip\n",
            "  Attempting uninstall: pyswip\n",
            "    Found existing installation: pyswip 0.2.10\n",
            "    Uninstalling pyswip-0.2.10:\n",
            "      Successfully uninstalled pyswip-0.2.10\n",
            "Successfully installed pyswip-0.2.11\n"
          ]
        }
      ],
      "source": [
        "# # install from the Github repo since the PyPi package produces errors\n",
        "\n",
        "# !pip install git+https://github.com/yuce/pyswip@master#egg=pyswip"
      ]
    },
    {
      "cell_type": "markdown",
      "metadata": {
        "id": "FNtOjMjtwgEF"
      },
      "source": [
        "### Prolog in PySWIP"
      ]
    },
    {
      "cell_type": "markdown",
      "metadata": {
        "id": "14QfCbJjoAoz"
      },
      "source": [
        "With the `PySWIP` package installed, we can create a `Prolog` object that will allow us to query with Prolog and use the `assertz()` function to create facts about the instances in our database. "
      ]
    },
    {
      "cell_type": "code",
      "execution_count": 3,
      "metadata": {
        "id": "wsZh5sSWoYWv"
      },
      "outputs": [],
      "source": [
        "from pyswip import *\n",
        "\n",
        "prolog = Prolog()\n",
        "\n",
        "prolog.assertz(\"father(john, jim)\")\n",
        "prolog.assertz(\"mother(jane, jim)\")\n",
        "\n",
        "prolog.assertz(\"father(john, jenny)\")\n",
        "prolog.assertz(\"mother(jane, jenny)\")\n",
        "\n",
        "prolog.assertz(\"father(john, jack)\")\n",
        "prolog.assertz(\"father(mary, jack)\")\n",
        "\n",
        "prolog.assertz(\"father(rob, andrew)\")\n",
        "prolog.assertz(\"mother(mary, andrew)\")\n",
        "\n",
        "prolog.assertz(\"father(bob, billy)\")\n",
        "prolog.assertz(\"mother(sue, billy)\")"
      ]
    },
    {
      "attachments": {},
      "cell_type": "markdown",
      "metadata": {
        "id": "oAxRG7tkmBYo"
      },
      "source": [
        "### Prolog basics\n",
        "\n",
        "In Prolog, everything is based on facts and rules. Facts are specified in the format as seen in the cell above and represent informations known about our dataset. We can deduce new relations between instances using the rules (by doing queries).\n",
        "\n",
        "A query is represented by a fact followed by the parameters between parantheses followed by `:-` the part of the query where the rule is formulated.\n",
        "\n",
        "- `,` represents the logical AND operator\n",
        "\n",
        "- Writing two queries for the same fact will be interpreted as a logical OR operator\n",
        "\n",
        "- `.` delimits the end of a query\n",
        "\n",
        "- `\\+` represents the logical NOT operator\n",
        "\n",
        "- `[{}]` represents True\n",
        "\n",
        "- `[]` represents False\n",
        "\n",
        "\n",
        "Simples queries over the facts will simply return True or False, but we can go further by doing variable queries.\n",
        "\n",
        "When using pyswip we can use the `query()` function to query the database and get the results. The results are returned as a list of dictionaries, where each dictionary represents a result and the keys are the variables used in the query. But we still need to explicitly use the `list()` function to get the results."
      ]
    },
    {
      "cell_type": "markdown",
      "metadata": {
        "id": "pGvTn9K1Z30o"
      },
      "source": [
        "We can create a small function that can simply check if a query returns True or False and can start checking some facts about the relations we've just created :"
      ]
    },
    {
      "cell_type": "code",
      "execution_count": 4,
      "metadata": {
        "colab": {
          "base_uri": "https://localhost:8080/"
        },
        "id": "NPWTqWZTaKJW",
        "outputId": "e0eaa7a7-bd0b-4a09-b2cc-4495bece7f66"
      },
      "outputs": [
        {
          "name": "stdout",
          "output_type": "stream",
          "text": [
            "True\n",
            "False\n"
          ]
        }
      ],
      "source": [
        "# How to do a simple query\n",
        "\n",
        "def check_query(query):\n",
        "    query = list(query)\n",
        "    return len(query) != 0\n",
        "\n",
        "print(check_query(prolog.query(\"father(john, jim)\")))\n",
        "print(check_query(prolog.query(\"mother(sue, jim)\")))"
      ]
    },
    {
      "cell_type": "code",
      "execution_count": 5,
      "metadata": {
        "colab": {
          "base_uri": "https://localhost:8080/"
        },
        "id": "Gg_h3l7ZRHza",
        "outputId": "e015a2ef-c4c5-449c-956c-d82cf126d1bf"
      },
      "outputs": [
        {
          "name": "stdout",
          "output_type": "stream",
          "text": [
            "Jim's father :\n",
            "john\n"
          ]
        }
      ],
      "source": [
        "# How to do a variable query\n",
        "\n",
        "def print_query(query, field):\n",
        "    query = list(query)\n",
        "    for result in query:\n",
        "        print(result[field])\n",
        "\n",
        "jims_father = prolog.query(\"father(X, jim)\")\n",
        "\n",
        "print(\"Jim's father :\")\n",
        "print_query(jims_father, 'X')"
      ]
    },
    {
      "cell_type": "code",
      "execution_count": 6,
      "metadata": {
        "id": "RiIDYDqsitnx"
      },
      "outputs": [],
      "source": [
        "rule_parent1 = \"parent(X, Y) :- father(X, Y)\"\n",
        "rule_parent2 = \"parent(X, Y) :- mother(X, Y)\"\n",
        "\n",
        "prolog.assertz(rule_parent1)\n",
        "prolog.assertz(rule_parent2)"
      ]
    },
    {
      "cell_type": "markdown",
      "metadata": {
        "id": "A2V9ZY_5NlR5"
      },
      "source": [
        "We can now create our own rule to query this small database to look for siblings :"
      ]
    },
    {
      "cell_type": "code",
      "execution_count": 7,
      "metadata": {
        "colab": {
          "base_uri": "https://localhost:8080/"
        },
        "id": "ngen6Utd8a83",
        "outputId": "68e643d0-7bd5-44f5-8ca4-23fe0a353d1b"
      },
      "outputs": [
        {
          "name": "stdout",
          "output_type": "stream",
          "text": [
            "Jim's siblings :\n",
            "jenny\n"
          ]
        }
      ],
      "source": [
        "# Rule :\n",
        "rule_sibling = \"sibling(X, Y) :- father(F, X), father(F, Y), mother(M, X), mother(M, Y), X \\= Y\"\n",
        "\n",
        "# Assert the rule\n",
        "prolog.assertz(rule_sibling)\n",
        "\n",
        "# Check the rule\n",
        "jims_siblings = prolog.query(\"sibling(X, jim)\")\n",
        "\n",
        "print(\"Jim's siblings :\")\n",
        "print_query(jims_siblings, 'X')"
      ]
    },
    {
      "cell_type": "markdown",
      "metadata": {
        "id": "LJvcnhi1XBV9"
      },
      "source": [
        "Can you now come up with a rule to check for stepsiblings ?"
      ]
    },
    {
      "cell_type": "code",
      "execution_count": 8,
      "metadata": {
        "colab": {
          "base_uri": "https://localhost:8080/"
        },
        "id": "ivHs4bDoXHNJ",
        "outputId": "5621b7a3-9047-4439-8bfd-164504bfe8f8"
      },
      "outputs": [
        {
          "name": "stdout",
          "output_type": "stream",
          "text": [
            "Jack's step siblings :\n",
            "jim\n",
            "jenny\n",
            "andrew\n"
          ]
        }
      ],
      "source": [
        "# Rules :\n",
        "rule_step_sibling = \"step_sibling(X, Y) :- parent(P, X), parent(P, Y), parent(Q, X), parent(R, Y), P \\= Q, P \\= R, Q \\= R\"\n",
        "\n",
        "# Assertion\n",
        "prolog.assertz(rule_step_sibling)\n",
        "\n",
        "# Check the rules\n",
        "jacks_step_siblings = prolog.query(\"step_sibling(X, jack)\")\n",
        "print(\"Jack's step siblings :\")\n",
        "print_query(jacks_step_siblings, 'X')"
      ]
    },
    {
      "attachments": {},
      "cell_type": "markdown",
      "metadata": {},
      "source": [
        "### Consult\n",
        "\n",
        "To avoid using the `assertz()` function to create facts, we can use the `consult()` function to load a file containing the facts. This file must be a `.pl` file :"
      ]
    },
    {
      "cell_type": "code",
      "execution_count": 9,
      "metadata": {},
      "outputs": [
        {
          "name": "stdout",
          "output_type": "stream",
          "text": [
            "[{'X': 'john', 'Y': 'ann'}, {'X': 'john', 'Y': 'bob'}, {'X': 'john', 'Y': 'jim'}]\n"
          ]
        },
        {
          "name": "stderr",
          "output_type": "stream",
          "text": [
            "Warning: /Users/arthurlouis/Documents/ULiège/Master/Bloc 1/Q2/Advanced Databases/Assignements/Assignment 2/family.pl:1:\n",
            "Warning:    Redefined static procedure parent/2\n"
          ]
        }
      ],
      "source": [
        "animal = Prolog()\n",
        "animal.consult(\"family.pl\")\n",
        "\n",
        "result = animal.query(\"grandparent(X, Y)\")\n",
        "print(list(result))"
      ]
    },
    {
      "attachments": {},
      "cell_type": "markdown",
      "metadata": {},
      "source": [
        "## Declarative Programming\n",
        "\n",
        "In Prolog, we can use declarative programming to define the rules of a program. The rules are defined in the form of facts and rules. The facts are the statements that are true. The rules are the statements that are true if the conditions are met.\n",
        "This is a way to solve problem by telling what a program should accomplish, rather than specifying how it should be done. "
      ]
    },
    {
      "cell_type": "code",
      "execution_count": 10,
      "metadata": {},
      "outputs": [
        {
          "name": "stdout",
          "output_type": "stream",
          "text": [
            "15\n"
          ]
        }
      ],
      "source": [
        "sum = Prolog()\n",
        "sum.consult(\"sum.pl\")\n",
        "\n",
        "result = sum.query(\"sum_list([1, 2, 3, 4, 5], Sum)\")\n",
        "\n",
        "print_query(result, 'Sum')"
      ]
    },
    {
      "attachments": {},
      "cell_type": "markdown",
      "metadata": {},
      "source": [
        "This code is defining a predicate sum_list in Prolog, which calculates the sum of a list of numbers.\n",
        "\n",
        "The predicate takes two arguments: \n",
        " - the first argument is the list of numbers\n",
        " - the second argument is the sum of those numbers.\n",
        "\n",
        "The first line of the code `sum_list([], 0)` is a base case that defines the sum of an empty list as 0.\n",
        "\n",
        "The second line of the code `sum_list([Head|Tail], Sum)` defines the recursive case, where `Head` is the first element of the list and `Tail` is the rest of the list.\n",
        "\n",
        "The recursive case then calls the `sum_list` predicate again with the Tail argument to calculate the sum of the remaining elements of the list, and stores that sum in the TailSum variable.\n",
        "\n",
        "Finally, the sum of Head and TailSum is computed using the `is` operator, and the result is stored in the `Sum` variable. This Sum value is returned as the final answer of the `sum_list` predicate.\n",
        "\n",
        "Overall, the `sum_list` predicate recursively computes the sum of a list of numbers by breaking it down into smaller subproblems (i.e., the sum of the tail of the list), and then combining the results to get the final answer."
      ]
    },
    {
      "cell_type": "markdown",
      "metadata": {},
      "source": []
    },
    {
      "cell_type": "code",
      "execution_count": 11,
      "metadata": {},
      "outputs": [
        {
          "name": "stdout",
          "output_type": "stream",
          "text": [
            "[{'Preds': [',(foo_1, foo_2)', ',(bar_1, bar_2)', ',(baz_1, baz_2)']}]\n"
          ]
        }
      ],
      "source": [
        "meta = Prolog()\n",
        "meta.consult(\"meta.pl\")\n",
        "\n",
        "\n",
        "result = meta.query(\"atoms_to_preds([foo, bar, baz], Preds).\")\n",
        "print(list(result))"
      ]
    },
    {
      "attachments": {},
      "cell_type": "markdown",
      "metadata": {},
      "source": [
        "This code defines a predicate `atoms_to_preds` that takes a list of atoms and returns a list of two-argument predicates with those names. Each predicate takes two arguments of any type and simply returns those arguments as a tuple.\n",
        "\n",
        "To accomplish this, `atoms_to_preds` uses several meta-predicates. First, it constructs the names of the predicates using atom_concat and then converts those names to actual predicate terms using `atom_to_term`. It then combines these predicates into two-argument tuples using the Prolog tuple syntax.\n",
        "\n",
        "Finally, the code uses the Prolog query system to demonstrate how atoms_to_preds can be used to create a list of predicates from a list of atoms. The query `atoms_to_preds([foo, bar, baz], Preds)` returns the list `[(foo_1, foo_2), (bar_1, bar_2), (baz_1, baz_2)]`, which demonstrates how meta-programming can be used to dynamically generate code."
      ]
    }
  ],
  "metadata": {
    "colab": {
      "provenance": []
    },
    "kernelspec": {
      "display_name": "base",
      "language": "python",
      "name": "python3"
    },
    "language_info": {
      "codemirror_mode": {
        "name": "ipython",
        "version": 3
      },
      "file_extension": ".py",
      "mimetype": "text/x-python",
      "name": "python",
      "nbconvert_exporter": "python",
      "pygments_lexer": "ipython3",
      "version": "3.9.13"
    },
    "vscode": {
      "interpreter": {
        "hash": "638e2af81b26a65dfcefa1be0996687eb3f1c97506d8627a1908e80eb506969c"
      }
    }
  },
  "nbformat": 4,
  "nbformat_minor": 0
}
